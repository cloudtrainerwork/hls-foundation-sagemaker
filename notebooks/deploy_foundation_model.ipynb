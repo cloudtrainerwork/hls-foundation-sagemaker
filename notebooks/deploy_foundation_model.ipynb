{
 "cells": [
  {
   "cell_type": "markdown",
   "id": "0a9a9ee2-4e8e-4a9c-85df-0238097fc8bb",
   "metadata": {},
   "source": [
    "# Deploy HLS Foundation Model into Vertex AI "
   ]
  },
  {
   "cell_type": "code",
   "execution_count": null,
   "id": "b32ccbde-6710-4eb1-a26f-a84fe7b5a758",
   "metadata": {},
   "outputs": [],
   "source": [
    "%%writefile requirements.txt\n",
    "joblib~=1.0\n",
    "numpy~=1.20\n",
    "scikit-learn~=0.24\n",
    "azure-storage-blob>=12.0.0\n",
    "azure-ai-ml>=1.0.0\n",
    "azure-identity>=1.0.0\n",
    "mlflow>=2.0.0\n",
    "torch>=1.9.0\n",
    "torchvision>=0.10.0"
   ]
  },
  {
   "cell_type": "code",
   "execution_count": null,
   "id": "4675ed6e-ca6c-4071-9cca-6de02f45ad38",
   "metadata": {},
   "outputs": [],
   "source": [
    "# Clone github with inference code for HLS foundation model\n",
    "! git clone https://github.com/nasa-impact/hls-foundation-vertexai.git"
   ]
  },
  {
   "cell_type": "code",
   "execution_count": null,
   "id": "d811043a-a77c-4942-b657-e8ecb4932d25",
   "metadata": {},
   "outputs": [],
   "source": [
    "# Navigate inside hls-foundation-vertexai folder\n",
    "import os\n",
    "os.chdir('hls-foundation-vertexai')"
   ]
  },
  {
   "cell_type": "code",
   "execution_count": null,
   "id": "6914c763-687c-4ff7-b461-65c8905db118",
   "metadata": {},
   "outputs": [],
   "source": [
    "# Install required packages for Azure ML\n",
    "! pip install -U azure-ai-ml azure-identity azure-storage-blob mlflow -q --user\n",
    "\n",
    "# Install requirements from the cloned repo\n",
    "! pip install -U -r requirements.txt -q --user\n",
    "\n",
    "# For local FastAPI development and running\n",
    "! pip install -U \"uvicorn[standard]>=0.12.0,<0.14.0\" fastapi~=0.63 -q --user"
   ]
  },
  {
   "cell_type": "code",
   "execution_count": null,
   "id": "b76543d0-12bc-4eec-81d2-0b4b740e59b5",
   "metadata": {},
   "outputs": [],
   "source": [
    "# Check Azure CLI authentication status\n",
    "! az account show"
   ]
  },
  {
   "cell_type": "code",
   "execution_count": null,
   "id": "1f07bd35-6774-473f-84d1-4c50cf32e7d0",
   "metadata": {},
   "outputs": [],
   "source": [
    "# List available Azure subscriptions\n",
    "! az account list --output table"
   ]
  },
  {
   "cell_type": "code",
   "execution_count": null,
   "id": "55e0da3a-9492-4abf-8c81-8d80ec1a0e7c",
   "metadata": {},
   "outputs": [],
   "source": [
    "# Replace <subscription-id> with your subscription ID\n",
    "! az account set --subscription \"<subscription-id>\""
   ]
  },
  {
   "cell_type": "markdown",
   "id": "d7917667-ef92-4bc1-ad5d-a39031c57134",
   "metadata": {},
   "source": [
    "## Use python to deploy HLS foundation model to vertexai endpoint "
   ]
  },
  {
   "cell_type": "code",
   "execution_count": null,
   "id": "a8329388-ef3a-4551-9357-2f12bb3c1000",
   "metadata": {},
   "outputs": [],
   "source": [
    "# Azure Configuration\n",
    "import os\n",
    "from azure.ai.ml import MLClient\n",
    "from azure.identity import DefaultAzureCredential\n",
    "from azure.ai.ml.entities import (\n",
    "    Model,\n",
    "    Environment,\n",
    "    CodeConfiguration,\n",
    "    ManagedOnlineEndpoint,\n",
    "    ManagedOnlineDeployment,\n",
    "    OnlineRequestSettings\n",
    ")\n",
    "\n",
    "# Replace with your Azure subscription and resource details\n",
    "subscription_id = \"<your-subscription-id>\"\n",
    "resource_group_name = \"<your-resource-group>\"\n",
    "workspace_name = \"<your-workspace-name>\"\n",
    "\n",
    "# Initialize Azure ML client\n",
    "ml_client = MLClient(\n",
    "    DefaultAzureCredential(),\n",
    "    subscription_id=subscription_id,\n",
    "    resource_group_name=resource_group_name,\n",
    "    workspace_name=workspace_name\n",
    ")\n",
    "\n",
    "print(f\"Connected to workspace: {ml_client.workspace_name}\")"
   ]
  },
  {
   "cell_type": "code",
   "execution_count": null,
   "id": "7989e754-eebb-432d-9b7e-2773a9d5a501",
   "metadata": {},
   "outputs": [],
   "source": [
    "# Build and push Docker image to Azure Container Registry\n",
    "# Replace <acr-name> with your Azure Container Registry name\n",
    "acr_name = \"<acr-name>\"\n",
    "image_name = \"hls-foundation-inference\"\n",
    "image_tag = \"latest\"\n",
    "\n",
    "# Build and push the Docker image\n",
    "! az acr build --registry {acr_name} --image {image_name}:{image_tag} ."
   ]
  },
  {
   "cell_type": "code",
   "execution_count": null,
   "id": "1f1e55c2-5ddd-4018-918b-2b0d24923477",
   "metadata": {},
   "outputs": [],
   "source": [
    "# Create Azure ML Environment\n",
    "environment_name = \"hls-foundation-env\"\n",
    "\n",
    "environment = Environment(\n",
    "    name=environment_name,\n",
    "    description=\"Environment for HLS Foundation Model\",\n",
    "    image=f\"{acr_name}.azurecr.io/{image_name}:{image_tag}\",\n",
    ")\n",
    "\n",
    "ml_client.environments.create_or_update(environment)\n",
    "print(f\"Environment {environment_name} created/updated\")\n"
   ]
  },
  {
   "cell_type": "code",
   "execution_count": null,
   "id": "264ccbdc-6bc9-4f9e-846d-aa48cda768c2",
   "metadata": {},
   "outputs": [],
   "source": [
    "# Register the model in Azure ML\n",
    "model_name = \"hls-foundation-model\"\n",
    "\n",
    "model = Model(\n",
    "    name=model_name,\n",
    "    description=\"HLS Foundation Model for satellite imagery analysis\",\n",
    "    path=\"./\",  # Path to your model files\n",
    "    type=\"custom_model\"\n",
    ")\n",
    "\n",
    "registered_model = ml_client.models.create_or_update(model)\n",
    "print(f\"Model {model_name} registered with version {registered_model.version}\")"
   ]
  },
  {
   "cell_type": "code",
   "execution_count": null,
   "id": "dafd66c9-2916-4192-a6d0-a77ccab6589d",
   "metadata": {},
   "outputs": [],
   "source": [
    "# Create managed online endpoint\n",
    "endpoint_name = \"hls-foundation-endpoint\"\n",
    "\n",
    "endpoint = ManagedOnlineEndpoint(\n",
    "    name=endpoint_name,\n",
    "    description=\"Endpoint for HLS Foundation Model inference\",\n",
    "    tags={\"model\": \"hls-foundation\", \"type\": \"satellite-imagery\"}\n",
    ")\n",
    "\n",
    "ml_client.online_endpoints.begin_create_or_update(endpoint).result()\n",
    "print(f\"Endpoint {endpoint_name} created\")"
   ]
  },
  {
   "cell_type": "code",
   "execution_count": null,
   "id": "cda5112b-c5bf-46b0-a5f5-cd6567c90449",
   "metadata": {},
   "outputs": [],
   "source": [
    "# Set 100% traffic to the new deployment\n",
    "endpoint.traffic = {deployment_name: 100}\n",
    "ml_client.online_endpoints.begin_create_or_update(endpoint).result()\n",
    "print(\"Traffic set to 100% for the deployment\")"
   ]
  },
  {
   "cell_type": "code",
   "execution_count": null,
   "id": "76eb8794-c6d0-4dfd-b78d-bd88f3e333f6",
   "metadata": {},
   "outputs": [],
   "source": [
    "%%writefile test.json\n",
    "{\n",
    "  \"instances\": {\n",
    "    \"date\": \"2023-08-13\",\n",
    "    \"bounding_box\": [-156.81605703476012, 20.69675592885614, -156.41605703476014, 21.096755928856137],\n",
    "    \"model_id\": \"burn_scars\"\n",
    "  }\n",
    "}"
   ]
  },
  {
   "cell_type": "code",
   "execution_count": null,
   "id": "8b54ef52",
   "metadata": {},
   "outputs": [],
   "source": [
    "# Test the deployed endpoint\n",
    "import json\n",
    "\n",
    "# Load test data\n",
    "with open(\"test.json\", \"r\") as f:\n",
    "    test_data = json.load(f)\n",
    "\n",
    "# Make prediction\n",
    "try:\n",
    "    response = ml_client.online_endpoints.invoke(\n",
    "        endpoint_name=endpoint_name,\n",
    "        deployment_name=deployment_name,\n",
    "        request_file=\"test.json\"\n",
    "    )\n",
    "    print(\"Prediction response:\")\n",
    "    print(response)\n",
    "except Exception as e:\n",
    "    print(f\"Error during prediction: {e}\")"
   ]
  },
  {
   "cell_type": "code",
   "execution_count": null,
   "id": "4821a162",
   "metadata": {},
   "outputs": [],
   "source": [
    "# Alternative: Test endpoint using REST API\n",
    "import requests\n",
    "import json\n",
    "from azure.identity import DefaultAzureCredential\n",
    "\n",
    "# Get access token\n",
    "credential = DefaultAzureCredential()\n",
    "token = credential.get_token(\"https://ml.azure.com/.default\").token\n",
    "\n",
    "# Endpoint URL\n",
    "endpoint_url = f\"https://{endpoint_name}.{ml_client.workspace_name}.inference.ml.azure.com/score\"\n",
    "\n",
    "# Headers\n",
    "headers = {\n",
    "    \"Authorization\": f\"Bearer {token}\",\n",
    "    \"Content-Type\": \"application/json\"\n",
    "}\n",
    "\n",
    "# Load and send test data\n",
    "with open(\"test.json\", \"r\") as f:\n",
    "    test_data = json.load(f)\n",
    "\n",
    "response = requests.post(endpoint_url, headers=headers, json=test_data)\n",
    "print(f\"Status Code: {response.status_code}\")\n",
    "print(f\"Response: {response.json()}\")"
   ]
  },
  {
   "cell_type": "code",
   "execution_count": null,
   "id": "94f35592",
   "metadata": {},
   "outputs": [],
   "source": [
    "# Get endpoint details and logs\n",
    "endpoint_details = ml_client.online_endpoints.get(endpoint_name)\n",
    "print(f\"Endpoint Status: {endpoint_details.provisioning_state}\")\n",
    "print(f\"Endpoint URI: {endpoint_details.scoring_uri}\")\n",
    "\n",
    "# Get deployment logs\n",
    "logs = ml_client.online_deployments.get_logs(\n",
    "    name=deployment_name,\n",
    "    endpoint_name=endpoint_name,\n",
    "    lines=50\n",
    ")\n",
    "print(\"Recent logs:\")\n",
    "print(logs)"
   ]
  },
  {
   "cell_type": "code",
   "execution_count": null,
   "id": "b920fbf7",
   "metadata": {},
   "outputs": [],
   "source": [
    "# Cleanup resources (uncomment to run)\n",
    "# ml_client.online_endpoints.begin_delete(name=endpoint_name).result()\n",
    "# print(f\"Endpoint {endpoint_name} deleted\")"
   ]
  }
 ],
 "metadata": {
  "kernelspec": {
   "display_name": "Python (Local)",
   "language": "python",
   "name": "local-base"
  },
  "language_info": {
   "codemirror_mode": {
    "name": "ipython",
    "version": 3
   },
   "file_extension": ".py",
   "mimetype": "text/x-python",
   "name": "python",
   "nbconvert_exporter": "python",
   "pygments_lexer": "ipython3",
   "version": "3.7.12"
  }
 },
 "nbformat": 4,
 "nbformat_minor": 5
}
